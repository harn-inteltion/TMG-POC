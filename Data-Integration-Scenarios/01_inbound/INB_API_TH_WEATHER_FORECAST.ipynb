{
 "cells": [
  {
   "cell_type": "code",
   "execution_count": 0,
   "metadata": {
    "application/vnd.databricks.v1+cell": {
     "cellMetadata": {
      "byteLimit": 2048000,
      "rowLimit": 10000
     },
     "inputWidgets": {},
     "nuid": "72944aa3-fbec-41ae-9c7c-c8457e11a27f",
     "showTitle": false,
     "tableResultSettingsMap": {},
     "title": ""
    }
   },
   "outputs": [],
   "source": [
    "%run /Workspace/Users/themallpocaws@inteltion.com/Data-Integration-Scenarios/00_common/common_function"
   ]
  },
  {
   "cell_type": "code",
   "execution_count": 0,
   "metadata": {
    "application/vnd.databricks.v1+cell": {
     "cellMetadata": {
      "byteLimit": 2048000,
      "rowLimit": 10000
     },
     "inputWidgets": {},
     "nuid": "c692cf5c-96e7-45d6-b0ca-631500f0d548",
     "showTitle": false,
     "tableResultSettingsMap": {},
     "title": ""
    }
   },
   "outputs": [],
   "source": [
    "CREATE TABLE IF NOT EXISTS POC_DWH.POC.TH_WEATHER_FORECAST (\n",
    "LATITUDE numeric(12,2),\n",
    "LONGITUDE numeric(12,2),\n",
    "FORECAST_DATE DATE,\n",
    "FORECAST_TIME TIMESTAMP,\n",
    "FORECAST_TEMP numeric(12,2),\n",
    "FORECAST_TEMP_UNIT STRING\n",
    ");"
   ]
  },
  {
   "cell_type": "code",
   "execution_count": 0,
   "metadata": {
    "application/vnd.databricks.v1+cell": {
     "cellMetadata": {
      "byteLimit": 2048000,
      "rowLimit": 10000
     },
     "inputWidgets": {},
     "nuid": "c35e0c4f-7b93-4374-ad49-bf545636e88d",
     "showTitle": false,
     "tableResultSettingsMap": {},
     "title": ""
    }
   },
   "outputs": [],
   "source": [
    "%python\n",
    "import requests\n",
    "import json  # Import JSON module\n",
    "\n",
    "# Define the API URL\n",
    "api_url = \"https://api.open-meteo.com/v1/forecast?latitude=15.5&longitude=101&hourly=temperature_2m&timezone=Asia%2FBangkok&forecast_days=1\"\n",
    "\n",
    "# Fetch data from the API\n",
    "response = requests.get(api_url)\n",
    "\n",
    "# Convert response JSON to a string with double quotes\n",
    "formatted_json = json.dumps(response.json(), indent=2)\n",
    "\n",
    "# Print properly formatted JSON\n",
    "print(formatted_json)\n"
   ]
  },
  {
   "cell_type": "code",
   "execution_count": 0,
   "metadata": {
    "application/vnd.databricks.v1+cell": {
     "cellMetadata": {
      "byteLimit": 2048000,
      "rowLimit": 10000
     },
     "inputWidgets": {},
     "nuid": "edfa02be-c372-44f0-8ae1-e40a115230a6",
     "showTitle": false,
     "tableResultSettingsMap": {},
     "title": ""
    }
   },
   "outputs": [],
   "source": [
    "%python\n",
    "from pyspark.sql import SparkSession\n",
    "from pyspark.sql.functions import col, lit, to_date, to_timestamp\n",
    "from pyspark.sql.types import DecimalType\n",
    "from datetime import datetime\n",
    "import pytz\n",
    "batch_status=set_process_success()\n",
    "try:\n",
    "    # Initialize Spark session\n",
    "    spark = SparkSession.builder.getOrCreate()\n",
    "    asdsad\n",
    "    thai_tz = pytz.timezone('Asia/Bangkok')\n",
    "    today_date = datetime.now(thai_tz).strftime('%Y-%m-%d')\n",
    "\n",
    "    # API response data\n",
    "    data = response.json()\n",
    "\n",
    "    # Extract values\n",
    "    latitude = data[\"latitude\"]\n",
    "    longitude = data[\"longitude\"]\n",
    "    forecast_times = data[\"hourly\"][\"time\"]\n",
    "    forecast_temps = data[\"hourly\"][\"temperature_2m\"]\n",
    "    forecast_temp_unit = \"Celsius\"\n",
    "\n",
    "    # Create a list of tuples for DataFrame\n",
    "    rows = [\n",
    "        (latitude, longitude, dt[:10], dt, temp, forecast_temp_unit)\n",
    "        for dt, temp in zip(forecast_times, forecast_temps)\n",
    "    ]\n",
    "\n",
    "    # Define schema and create DataFrame\n",
    "    schema = [\"LATITUDE\", \"LONGITUDE\", \"FORECAST_DATE\", \"FORECAST_TIME\", \"FORECAST_TEMP\", \"FORECAST_TEMP_UNIT\"]\n",
    "    df = spark.createDataFrame(rows, schema)\n",
    "    # Transform date and timestamp columns\n",
    "    df = df.withColumn(\"LATITUDE\", col(\"LATITUDE\").cast(DecimalType(12,2))) \\\n",
    "       .withColumn(\"LONGITUDE\", col(\"LONGITUDE\").cast(DecimalType(12,2))) \\\n",
    "       .withColumn(\"FORECAST_DATE\", to_date(col(\"FORECAST_DATE\"), \"yyyy-MM-dd\")) \\\n",
    "       .withColumn(\"FORECAST_TIME\", to_timestamp(col(\"FORECAST_TIME\"), \"yyyy-MM-dd'T'HH:mm\")) \\\n",
    "       .withColumn(\"FORECAST_TEMP\", col(\"FORECAST_TEMP\").cast(DecimalType(12,2)))\n",
    "    # Write to Databricks SQL table\n",
    "    df.write.mode(\"sdsdsdoverwrite\") \\\n",
    "    .saveAsTable(\"POC_DWH.POC.TH_WEATHER_FORECAST\")\n",
    "\n",
    "except Exception as err:\n",
    "    batch_status=set_process_failed(err)\n",
    "\n",
    "dbutils.notebook.exit(batch_status)  "
   ]
  },
  {
   "cell_type": "code",
   "execution_count": 0,
   "metadata": {
    "application/vnd.databricks.v1+cell": {
     "cellMetadata": {},
     "inputWidgets": {},
     "nuid": "91e83b88-cf71-479e-ab27-bbd9825e23e1",
     "showTitle": false,
     "tableResultSettingsMap": {},
     "title": ""
    }
   },
   "outputs": [],
   "source": []
  }
 ],
 "metadata": {
  "application/vnd.databricks.v1+notebook": {
   "computePreferences": null,
   "dashboards": [],
   "environmentMetadata": {
    "base_environment": "",
    "environment_version": "2"
   },
   "language": "sql",
   "notebookMetadata": {
    "pythonIndentUnit": 4
   },
   "notebookName": "INB_API_TH_WEATHER_FORECAST",
   "widgets": {}
  },
  "language_info": {
   "name": "sql"
  }
 },
 "nbformat": 4,
 "nbformat_minor": 0
}
