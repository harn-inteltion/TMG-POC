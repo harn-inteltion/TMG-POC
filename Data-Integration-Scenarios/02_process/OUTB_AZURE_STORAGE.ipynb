{
 "cells": [
  {
   "cell_type": "code",
   "execution_count": 0,
   "metadata": {
    "application/vnd.databricks.v1+cell": {
     "cellMetadata": {
      "byteLimit": 2048000,
      "rowLimit": 10000
     },
     "inputWidgets": {},
     "nuid": "6eedb11f-1281-4102-84b2-f2012420ec90",
     "showTitle": false,
     "tableResultSettingsMap": {},
     "title": ""
    }
   },
   "outputs": [],
   "source": [
    "dbutils.widgets.text(\"proc_name\", \"\", \"Process Name\")\n",
    "dbutils.widgets.text(\"proc_run_id\", \"\", \"Process Run ID\")\n",
    "dbutils.widgets.text(\"data_dt\", \"\", \"Data Date\")\n",
    "proc_name = dbutils.widgets.get(\"proc_name\")\n",
    "proc_run_id = dbutils.widgets.get(\"proc_run_id\")\n",
    "data_dt = dbutils.widgets.get(\"data_dt\")"
   ]
  },
  {
   "cell_type": "code",
   "execution_count": 0,
   "metadata": {
    "application/vnd.databricks.v1+cell": {
     "cellMetadata": {
      "byteLimit": 2048000,
      "rowLimit": 10000
     },
     "inputWidgets": {},
     "nuid": "b249f2e6-2d14-4781-b88a-51bb82cce477",
     "showTitle": false,
     "tableResultSettingsMap": {},
     "title": ""
    }
   },
   "outputs": [],
   "source": [
    "%run /Workspace/Users/themallpocaws@inteltion.com/Data-Integration-Scenarios/00_common/common_function"
   ]
  },
  {
   "cell_type": "markdown",
   "metadata": {
    "application/vnd.databricks.v1+cell": {
     "cellMetadata": {
      "byteLimit": 2048000,
      "rowLimit": 10000
     },
     "inputWidgets": {},
     "nuid": "1a59984f-191f-46e7-b7c3-08295760a3f4",
     "showTitle": false,
     "tableResultSettingsMap": {},
     "title": ""
    }
   },
   "source": [
    "##### save file to s3"
   ]
  },
  {
   "cell_type": "code",
   "execution_count": 0,
   "metadata": {
    "application/vnd.databricks.v1+cell": {
     "cellMetadata": {
      "byteLimit": 2048000,
      "rowLimit": 10000
     },
     "inputWidgets": {},
     "nuid": "f440c408-5661-400d-9903-20ba5b88644e",
     "showTitle": false,
     "tableResultSettingsMap": {},
     "title": ""
    }
   },
   "outputs": [],
   "source": [
    "%pip install azure-storage-blob\n"
   ]
  },
  {
   "cell_type": "code",
   "execution_count": 0,
   "metadata": {
    "application/vnd.databricks.v1+cell": {
     "cellMetadata": {
      "byteLimit": 2048000,
      "rowLimit": 10000
     },
     "inputWidgets": {},
     "nuid": "5603e672-d8b5-4eb5-b447-30b046bafeaa",
     "showTitle": false,
     "tableResultSettingsMap": {},
     "title": ""
    }
   },
   "outputs": [],
   "source": [
    "from azure.storage.blob import BlobServiceClient\n",
    "import boto3\n",
    "from botocore.exceptions import ClientError\n",
    "from io import StringIO, BytesIO\n"
   ]
  },
  {
   "cell_type": "code",
   "execution_count": 0,
   "metadata": {
    "application/vnd.databricks.v1+cell": {
     "cellMetadata": {
      "byteLimit": 2048000,
      "rowLimit": 10000
     },
     "inputWidgets": {},
     "nuid": "4e4cbfe3-24c1-4fe7-a95d-42ca23c724b6",
     "showTitle": false,
     "tableResultSettingsMap": {},
     "title": ""
    }
   },
   "outputs": [],
   "source": [
    "def get_secret():\n",
    "  secret_name = \"TMG/POC/Azure_Storage_Account\"\n",
    "  region_name = \"ap-southeast-1\"\n",
    "\n",
    "  # Create a Secrets Manager client\n",
    "  session = boto3.session.Session()\n",
    "  client = session.client(\n",
    "      service_name='secretsmanager',\n",
    "      region_name=region_name\n",
    "  )\n",
    "\n",
    "  try:\n",
    "      get_secret_value_response = client.get_secret_value(\n",
    "          SecretId=secret_name\n",
    "      )\n",
    "  except ClientError as e:\n",
    "      # For a list of exceptions thrown, see\n",
    "      # https://docs.aws.amazon.com/secretsmanager/latest/apireference/API_GetSecretValue.html\n",
    "      raise e\n",
    "  \n",
    "  return json.loads(get_secret_value_response['SecretString'])"
   ]
  },
  {
   "cell_type": "markdown",
   "metadata": {
    "application/vnd.databricks.v1+cell": {
     "cellMetadata": {},
     "inputWidgets": {},
     "nuid": "0e1b3119-0891-48c3-ad48-91085aa6c04e",
     "showTitle": false,
     "tableResultSettingsMap": {},
     "title": ""
    }
   },
   "source": [
    "##### Get Azure storage account credentials"
   ]
  },
  {
   "cell_type": "code",
   "execution_count": 0,
   "metadata": {
    "application/vnd.databricks.v1+cell": {
     "cellMetadata": {
      "byteLimit": 2048000,
      "rowLimit": 10000
     },
     "inputWidgets": {},
     "nuid": "0519f426-9449-4682-b8e1-e4f27e0e6c85",
     "showTitle": false,
     "tableResultSettingsMap": {},
     "title": ""
    }
   },
   "outputs": [],
   "source": [
    "# Azure Storage connection details\n",
    "secret = get_secret() \n",
    "AccountKey = secret[\"AccountKey\"]\n",
    "AccountName = 'presalesstint'\n"
   ]
  },
  {
   "cell_type": "code",
   "execution_count": 0,
   "metadata": {
    "application/vnd.databricks.v1+cell": {
     "cellMetadata": {
      "byteLimit": 2048000,
      "rowLimit": 10000
     },
     "inputWidgets": {},
     "nuid": "dca3637c-f242-478f-82fb-f4bfbb34e6f0",
     "showTitle": false,
     "tableResultSettingsMap": {},
     "title": ""
    }
   },
   "outputs": [],
   "source": [
    "batch_status=set_process_success()\n",
    "try:\n",
    "    # Read the table from Unity Catalog\n",
    "    df = spark.table(\"poc_dwh.poc.poc_fact_sales\")\n",
    "    _data_dt=data_dt.replace(\"-\",\"\") \n",
    "    # Reduce to a single partition so that you get one CSV file\n",
    "    df_single = df.coalesce(1)\n",
    "    temp_output = 's3://tmg-poc-awsdb-apse1-stack-97db8-bucket/unity-catalog/catalog/poc_landing/temp_outbound/azure_storage/'\n",
    "    # Write the DataFrame to S3 in CSV format with pipe delimiter and header\n",
    "    df_single.write \\\n",
    "        .option(\"delimiter\", \",\") \\\n",
    "        .option(\"header\", \"true\") \\\n",
    "        .mode(\"overwrite\") \\\n",
    "        .csv(temp_output)\n",
    "\n",
    "    # List the files in the temporary directory\n",
    "    files = dbutils.fs.ls(temp_output)\n",
    "\n",
    "    # Find the CSV file (the one that starts with \"part-\")\n",
    "    csv_file = [f.path for f in files if f.name.endswith(\".csv\")][0]\n",
    "    final_output = f\"s3://tmg-poc-awsdb-apse1-stack-97db8-bucket/unity-catalog/catalog/poc_outbound/azure_storage/3_POC_Fact_Sales_{_data_dt}.csv\"\n",
    "    archived_output = f\"s3://tmg-poc-awsdb-apse1-stack-97db8-bucket/unity-catalog/catalog/poc_outbound/azure_storage/archived/3_POC_Fact_Sales_{_data_dt}.csv\"\n",
    "    dbutils.fs.mv(csv_file, final_output)\n",
    "except Exception as err:\n",
    "    print(f'error : {err}')\n",
    "    raise err"
   ]
  },
  {
   "cell_type": "markdown",
   "metadata": {
    "application/vnd.databricks.v1+cell": {
     "cellMetadata": {
      "byteLimit": 2048000,
      "rowLimit": 10000
     },
     "inputWidgets": {},
     "nuid": "3ab9431d-5233-4ce7-a732-1671afb3c403",
     "showTitle": false,
     "tableResultSettingsMap": {},
     "title": ""
    }
   },
   "source": [
    "##### sync to azure storage"
   ]
  },
  {
   "cell_type": "code",
   "execution_count": 0,
   "metadata": {
    "application/vnd.databricks.v1+cell": {
     "cellMetadata": {
      "byteLimit": 2048000,
      "rowLimit": 10000
     },
     "inputWidgets": {},
     "nuid": "67b44bcf-a6ff-42bf-8881-a6466037f651",
     "showTitle": false,
     "tableResultSettingsMap": {},
     "title": ""
    }
   },
   "outputs": [],
   "source": [
    "try:\n",
    "   \n",
    "    connection_string = f\"DefaultEndpointsProtocol=https;AccountName={AccountName};AccountKey={AccountKey};EndpointSuffix=core.windows.net\"\n",
    "\n",
    "    # Specify the container name and blob (file) name for Azure\n",
    "    container_name = \"tmg-poc\"\n",
    "    blob_name = f\"3_POC_Fact_Sales_{_data_dt}.csv\"\n",
    "\n",
    "    # S3 file URI (source)\n",
    "    s3_uri = final_output\n",
    "    local_file_path='/tmp/test.csv'\n",
    "    dbutils.fs.cp(s3_uri, \"file:\" + local_file_path)\n",
    "\n",
    "\n",
    "    # Create the BlobServiceClient object to interact with Azure Blob Storage\n",
    "    blob_service_client = BlobServiceClient.from_connection_string(connection_string)\n",
    "\n",
    "    # Get a blob client for the target container and blob name\n",
    "    blob_client = blob_service_client.get_blob_client(container=container_name, blob=blob_name)\n",
    "\n",
    "    # Open the local file in binary mode and upload it to Azure Blob Storage\n",
    "    with open(local_file_path, \"rb\") as data:\n",
    "        blob_client.upload_blob(data, overwrite=True)\n",
    "\n",
    "    print(\"File uploaded successfully!\")\n",
    "    dbutils.fs.mv(final_output,archived_output )\n",
    "except Exception as e:\n",
    "    print(f\"An error occurred: {e}\")\n",
    "    batch_status=set_process_failed(e)\n",
    "\n",
    "dbutils.notebook.exit(batch_status)\n"
   ]
  }
 ],
 "metadata": {
  "application/vnd.databricks.v1+notebook": {
   "computePreferences": null,
   "dashboards": [],
   "environmentMetadata": {
    "base_environment": "",
    "environment_version": "2"
   },
   "language": "python",
   "notebookMetadata": {
    "mostRecentlyExecutedCommandWithImplicitDF": {
     "commandId": 7712890698649215,
     "dataframes": [
      "_sqldf"
     ]
    },
    "pythonIndentUnit": 4
   },
   "notebookName": "OUTB_AZURE_STORAGE",
   "widgets": {
    "data_dt": {
     "currentValue": "2025-02-19",
     "nuid": "969c3dc1-c6b1-4a4f-8827-bdee4e9fdbf9",
     "typedWidgetInfo": {
      "autoCreated": false,
      "defaultValue": "",
      "label": "Data Date",
      "name": "data_dt",
      "options": {
       "widgetDisplayType": "Text",
       "validationRegex": null
      },
      "parameterDataType": "String"
     },
     "widgetInfo": {
      "widgetType": "text",
      "defaultValue": "",
      "label": "Data Date",
      "name": "data_dt",
      "options": {
       "widgetType": "text",
       "autoCreated": null,
       "validationRegex": null
      }
     }
    },
    "proc_name": {
     "currentValue": "",
     "nuid": "3e278f1c-7314-40e1-85b3-6318b1d71343",
     "typedWidgetInfo": {
      "autoCreated": false,
      "defaultValue": "",
      "label": "Process Name",
      "name": "proc_name",
      "options": {
       "widgetDisplayType": "Text",
       "validationRegex": null
      },
      "parameterDataType": "String"
     },
     "widgetInfo": {
      "widgetType": "text",
      "defaultValue": "",
      "label": "Process Name",
      "name": "proc_name",
      "options": {
       "widgetType": "text",
       "autoCreated": null,
       "validationRegex": null
      }
     }
    },
    "proc_run_id": {
     "currentValue": "",
     "nuid": "2298df8c-2614-482a-9429-ff7dc4d84adc",
     "typedWidgetInfo": {
      "autoCreated": false,
      "defaultValue": "",
      "label": "Process Run ID",
      "name": "proc_run_id",
      "options": {
       "widgetDisplayType": "Text",
       "validationRegex": null
      },
      "parameterDataType": "String"
     },
     "widgetInfo": {
      "widgetType": "text",
      "defaultValue": "",
      "label": "Process Run ID",
      "name": "proc_run_id",
      "options": {
       "widgetType": "text",
       "autoCreated": null,
       "validationRegex": null
      }
     }
    }
   }
  },
  "language_info": {
   "name": "python"
  }
 },
 "nbformat": 4,
 "nbformat_minor": 0
}
