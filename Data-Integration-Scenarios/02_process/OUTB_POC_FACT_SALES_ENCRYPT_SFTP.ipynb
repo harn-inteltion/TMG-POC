{
 "cells": [
  {
   "cell_type": "code",
   "execution_count": 0,
   "metadata": {
    "application/vnd.databricks.v1+cell": {
     "cellMetadata": {
      "byteLimit": 2048000,
      "rowLimit": 10000
     },
     "inputWidgets": {},
     "nuid": "7c69b07a-ac59-4651-929b-ec2d478782be",
     "showTitle": false,
     "tableResultSettingsMap": {},
     "title": ""
    }
   },
   "outputs": [],
   "source": [
    "dbutils.widgets.text(\"proc_name\", \"\", \"Process Name\")\n",
    "dbutils.widgets.text(\"proc_run_id\", \"\", \"Process Run ID\")\n",
    "dbutils.widgets.text(\"data_dt\", \"\", \"Data Date\")\n",
    "proc_name = dbutils.widgets.get(\"proc_name\")\n",
    "proc_run_id = dbutils.widgets.get(\"proc_run_id\")\n",
    "data_dt = dbutils.widgets.get(\"data_dt\")"
   ]
  },
  {
   "cell_type": "code",
   "execution_count": 0,
   "metadata": {
    "application/vnd.databricks.v1+cell": {
     "cellMetadata": {
      "byteLimit": 2048000,
      "rowLimit": 10000
     },
     "inputWidgets": {},
     "nuid": "e9b18fe8-4366-4581-80b0-6c5aed961bcf",
     "showTitle": false,
     "tableResultSettingsMap": {},
     "title": ""
    }
   },
   "outputs": [],
   "source": [
    "%run /Workspace/Users/themallpocaws@inteltion.com/Data-Integration-Scenarios/00_common/common_function"
   ]
  },
  {
   "cell_type": "code",
   "execution_count": 0,
   "metadata": {
    "application/vnd.databricks.v1+cell": {
     "cellMetadata": {
      "byteLimit": 2048000,
      "rowLimit": 10000
     },
     "inputWidgets": {},
     "nuid": "e9740586-9d5a-459f-a3f5-392659bc9cd0",
     "showTitle": false,
     "tableResultSettingsMap": {},
     "title": ""
    }
   },
   "outputs": [],
   "source": [
    "%pip install paramiko\n",
    "%pip install boto3 python-gnupg"
   ]
  },
  {
   "cell_type": "code",
   "execution_count": 0,
   "metadata": {
    "application/vnd.databricks.v1+cell": {
     "cellMetadata": {
      "byteLimit": 2048000,
      "rowLimit": 10000
     },
     "inputWidgets": {},
     "nuid": "20c3b4bc-155b-4258-9916-148704230457",
     "showTitle": false,
     "tableResultSettingsMap": {},
     "title": ""
    }
   },
   "outputs": [],
   "source": [
    "import os\n",
    "import gnupg\n",
    "from pyspark.sql import SparkSession\n",
    "import paramiko\n",
    "from io import StringIO, BytesIO\n",
    "import boto3\n",
    "from botocore.exceptions import ClientError"
   ]
  },
  {
   "cell_type": "code",
   "execution_count": 0,
   "metadata": {
    "application/vnd.databricks.v1+cell": {
     "cellMetadata": {
      "byteLimit": 2048000,
      "rowLimit": 10000
     },
     "inputWidgets": {},
     "nuid": "2e4b4d94-c57f-4474-8d9a-fa5ddcd7ffca",
     "showTitle": false,
     "tableResultSettingsMap": {},
     "title": ""
    }
   },
   "outputs": [],
   "source": [
    "def get_secret():\n",
    "  secret_name = \"TMG/POC/SFTP\"\n",
    "  region_name = \"ap-southeast-1\"\n",
    "\n",
    "  # Create a Secrets Manager client\n",
    "  session = boto3.session.Session()\n",
    "  client = session.client(\n",
    "      service_name='secretsmanager',\n",
    "      region_name=region_name\n",
    "  )\n",
    "\n",
    "  try:\n",
    "      get_secret_value_response = client.get_secret_value(\n",
    "          SecretId=secret_name\n",
    "      )\n",
    "  except ClientError as e:\n",
    "      # For a list of exceptions thrown, see\n",
    "      # https://docs.aws.amazon.com/secretsmanager/latest/apireference/API_GetSecretValue.html\n",
    "      raise e\n",
    "  \n",
    "  return json.loads(get_secret_value_response['SecretString'])"
   ]
  },
  {
   "cell_type": "markdown",
   "metadata": {
    "application/vnd.databricks.v1+cell": {
     "cellMetadata": {},
     "inputWidgets": {},
     "nuid": "b4b537bf-0d1e-4ff9-9003-4864efd0b72a",
     "showTitle": false,
     "tableResultSettingsMap": {},
     "title": ""
    }
   },
   "source": [
    "##### Encrypt file"
   ]
  },
  {
   "cell_type": "code",
   "execution_count": 0,
   "metadata": {
    "application/vnd.databricks.v1+cell": {
     "cellMetadata": {
      "byteLimit": 2048000,
      "rowLimit": 10000
     },
     "inputWidgets": {},
     "nuid": "dd83bfb1-de81-47ed-890a-437603c5a6cb",
     "showTitle": false,
     "tableResultSettingsMap": {},
     "title": ""
    }
   },
   "outputs": [],
   "source": [
    "batch_status=set_process_success()\n",
    "try:\n",
    "    # Read the table from Unity Catalog\n",
    "    df = spark.table(\"poc_dwh.poc.poc_fact_sales\")\n",
    "    _data_dt=data_dt.replace(\"-\",\"\") \n",
    "    # Reduce to a single partition so that you get one CSV file\n",
    "    df_single = df.coalesce(1)\n",
    "    temp_output = 's3://tmg-poc-awsdb-apse1-stack-97db8-bucket/unity-catalog/catalog/poc_landing/temp_outbound/sftp_server/'\n",
    "    # Write the DataFrame to S3 in CSV format with pipe delimiter and header\n",
    "    df_single.write \\\n",
    "        .option(\"delimiter\", \",\") \\\n",
    "        .option(\"header\", \"true\") \\\n",
    "        .mode(\"overwrite\") \\\n",
    "        .csv(temp_output)\n",
    "\n",
    "    # List the files in the temporary directory\n",
    "    files = dbutils.fs.ls(temp_output)\n",
    "\n",
    "    # Find the CSV file (the one that starts with \"part-\")\n",
    "    csv_file = [f.path for f in files if f.name.endswith(\".csv\")][0]\n",
    "    final_output = f\"s3://tmg-poc-awsdb-apse1-stack-97db8-bucket/unity-catalog/catalog/poc_outbound/sftp_server/3_POC_Fact_Sales_{_data_dt}.csv\"\n",
    "    archived_output = f\"s3://tmg-poc-awsdb-apse1-stack-97db8-bucket/unity-catalog/catalog/poc_outbound/sftp_server/archived/3_POC_Fact_Sales_{_data_dt}.csv\"\n",
    "    dbutils.fs.mv(csv_file, final_output)\n",
    "except Exception as e:\n",
    "    print(f\"An error occurred: {e}\")\n",
    "    batch_status=set_process_failed(e)\n",
    "    raise e"
   ]
  },
  {
   "cell_type": "code",
   "execution_count": 0,
   "metadata": {
    "application/vnd.databricks.v1+cell": {
     "cellMetadata": {
      "byteLimit": 2048000,
      "rowLimit": 10000
     },
     "inputWidgets": {},
     "nuid": "d958d216-abcd-4040-8bf5-fbaaf57eb4d1",
     "showTitle": false,
     "tableResultSettingsMap": {},
     "title": ""
    }
   },
   "outputs": [],
   "source": [
    "try:\n",
    "    # Initialize Spark\n",
    "    spark = SparkSession.builder.appName(\"EncryptCSVWithExistingPublicKey\").getOrCreate()\n",
    "\n",
    "    # Define S3 Paths\n",
    "    tmg_public_key_s3 = 's3://tmg-poc-awsdb-apse1-stack-97db8-bucket/unity-catalog/catalog/poc_landing/TMG-POC-DWH_0x2CC43F58_public.asc'\n",
    "    encrypted_csv_s3 = final_output + '.gpg'\n",
    "\n",
    "    # Define Local Paths\n",
    "    local_file_path = f'/tmp/output_{_data_dt}'\n",
    "    local_pubkey_path = f\"/tmp/TMG-POC-DWH_0x2CC43F58_public_{_data_dt}.asc\"\n",
    "    encrypted_csv_path = f\"/tmp/output_{_data_dt}.csv.gpg\"\n",
    "\n",
    "    dbutils.fs.cp(final_output, \"file:\" + local_file_path)\n",
    "\n",
    "    # Copy the existing public key from S3 to the local filesystem\n",
    "    dbutils.fs.cp(tmg_public_key_s3, \"file:\" + local_pubkey_path)\n",
    "    print(\" Public key copied from S3 to:\", local_pubkey_path)\n",
    "\n",
    "    # Initialize GPG and import the public key\n",
    "    gpg = gnupg.GPG()\n",
    "    with open(local_pubkey_path, \"r\") as key_file:\n",
    "        public_key = key_file.read()\n",
    "\n",
    "    import_result = gpg.import_keys(public_key)\n",
    "    if not import_result or not import_result.fingerprints:\n",
    "        raise Exception(\"Public key import failed!\")\n",
    "    print(\"Public key imported. Fingerprint(s):\", import_result.fingerprints)\n",
    "\n",
    "    # PGP Encrypt\n",
    "    with open(local_file_path, 'rb') as csv_file:\n",
    "        encrypted_data = gpg.encrypt(csv_file.read(), recipients=['Siripatak.sir@themall.co.th'], always_trust=True)\n",
    "\n",
    "    if not encrypted_data.ok:\n",
    "        raise Exception(\"Encryption failed: \" + encrypted_data.status)\n",
    "\n",
    "    # Save the encrypted file locally\n",
    "    with open(encrypted_csv_path, 'wb') as encrypted_file:\n",
    "        encrypted_file.write(str(encrypted_data).encode())\n",
    "    print(\"Encrypted file saved locally at:\", encrypted_csv_path)\n",
    "\n",
    "    # Upload the encrypted file to S3\n",
    "    dbutils.fs.cp(\"file:\" + encrypted_csv_path, encrypted_csv_s3)\n",
    "    print(\"Encrypted file uploaded to:\", encrypted_csv_s3)\n",
    "except Exception as e:\n",
    "    print(f\"An error occurred: {e}\")\n",
    "    batch_status=set_process_failed(e)\n",
    "    raise e\n"
   ]
  },
  {
   "cell_type": "markdown",
   "metadata": {
    "application/vnd.databricks.v1+cell": {
     "cellMetadata": {},
     "inputWidgets": {},
     "nuid": "d18ba012-1cce-44bc-9f38-c47b099b503e",
     "showTitle": false,
     "tableResultSettingsMap": {},
     "title": ""
    }
   },
   "source": [
    "#### Send to sFTP "
   ]
  },
  {
   "cell_type": "code",
   "execution_count": 0,
   "metadata": {
    "application/vnd.databricks.v1+cell": {
     "cellMetadata": {
      "byteLimit": 2048000,
      "rowLimit": 10000
     },
     "inputWidgets": {},
     "nuid": "445ad323-cb2e-4144-bc6c-50e09e27f9ad",
     "showTitle": false,
     "tableResultSettingsMap": {},
     "title": ""
    }
   },
   "outputs": [],
   "source": [
    "# SFTP connection details\n",
    "secret = get_secret() #Get SFTP secrets\n",
    "hostname = secret[\"hostname\"]\n",
    "username = secret[\"username\"]\n",
    "password = secret[\"password\"]\n",
    "port = int(secret[\"port\"])\n",
    "gpg_decrypt_passphrase = secret[\"gpg_decrypt_passphrase\"]\n"
   ]
  },
  {
   "cell_type": "code",
   "execution_count": 0,
   "metadata": {
    "application/vnd.databricks.v1+cell": {
     "cellMetadata": {
      "byteLimit": 2048000,
      "rowLimit": 10000
     },
     "inputWidgets": {},
     "nuid": "f5899ec7-69e1-42a5-a717-961fa1bd62c3",
     "showTitle": false,
     "tableResultSettingsMap": {},
     "title": ""
    }
   },
   "outputs": [],
   "source": [
    "\n",
    "# S3 paths for the private key and the encrypted file\n",
    "s3_input_file = encrypted_csv_s3 \n",
    "\n",
    "# Define remote SFTP destination path (adjust as needed)\n",
    "remote_file_path = f'/shared/uat/DWH_POC/In/PD3/3_POC_Fact_Sales_{_data_dt}.csv.gpg'\n",
    "\n",
    "# Define local file paths\n",
    "local_input_file_path = f\"/tmp/3_POC_Fact_Sales_{_data_dt}.csv.gpg\"\n",
    "\n",
    "try:\n",
    "    # Copy the encrypted file from S3 to the local filesystem\n",
    "    dbutils.fs.cp(s3_input_file, \"file:\" + local_input_file_path)\n",
    "    print(\"File copied from S3 to local path:\", local_input_file_path)\n",
    "\n",
    "\n",
    "    # Create a transport object for the SFTP connection\n",
    "    transport = paramiko.Transport((hostname, port))\n",
    "    transport.connect(username=username, password=password)\n",
    "    \n",
    "    # Create an SFTP session\n",
    "    sftp = paramiko.SFTPClient.from_transport(transport)\n",
    "    \n",
    "    # Upload the file from the local path to the SFTP server\n",
    "    sftp.put(local_input_file_path, remote_file_path)\n",
    "    print(\"File uploaded to SFTP server at:\", remote_file_path)\n",
    "    \n",
    "    # Close the SFTP session and transport\n",
    "    sftp.close()\n",
    "    transport.close()\n",
    "    archived_output_encypted = f\"s3://tmg-poc-awsdb-apse1-stack-97db8-bucket/unity-catalog/catalog/poc_outbound/sftp_server/archived/3_POC_Fact_Sales_{_data_dt}.csv.gpg\"\n",
    "    dbutils.fs.mv(final_output, archived_output)\n",
    "    dbutils.fs.mv(s3_input_file, archived_output_encypted)\n",
    "except Exception as e:\n",
    "    print(f\"Failed to connect to SFTP server: {e}\")\n",
    "    batch_status=set_process_failed(e)\n",
    "\n",
    "dbutils.notebook.exit(batch_status)\n"
   ]
  }
 ],
 "metadata": {
  "application/vnd.databricks.v1+notebook": {
   "computePreferences": null,
   "dashboards": [],
   "environmentMetadata": {
    "base_environment": "",
    "environment_version": "2"
   },
   "language": "python",
   "notebookMetadata": {
    "mostRecentlyExecutedCommandWithImplicitDF": {
     "commandId": 5699380366507521,
     "dataframes": [
      "_sqldf"
     ]
    },
    "pythonIndentUnit": 4
   },
   "notebookName": "OUTB_POC_FACT_SALES_ENCRYPT_SFTP",
   "widgets": {
    "data_dt": {
     "currentValue": "",
     "nuid": "be193a58-0bd3-4f8c-b767-c37659be0418",
     "typedWidgetInfo": {
      "autoCreated": false,
      "defaultValue": "",
      "label": "Data Date",
      "name": "data_dt",
      "options": {
       "widgetDisplayType": "Text",
       "validationRegex": null
      },
      "parameterDataType": "String"
     },
     "widgetInfo": {
      "widgetType": "text",
      "defaultValue": "",
      "label": "Data Date",
      "name": "data_dt",
      "options": {
       "widgetType": "text",
       "autoCreated": false,
       "validationRegex": null
      }
     }
    },
    "proc_name": {
     "currentValue": "",
     "nuid": "323fbfea-76ba-4fa0-bd03-79fa129fbe09",
     "typedWidgetInfo": {
      "autoCreated": false,
      "defaultValue": "",
      "label": "Process Name",
      "name": "proc_name",
      "options": {
       "widgetDisplayType": "Text",
       "validationRegex": null
      },
      "parameterDataType": "String"
     },
     "widgetInfo": {
      "widgetType": "text",
      "defaultValue": "",
      "label": "Process Name",
      "name": "proc_name",
      "options": {
       "widgetType": "text",
       "autoCreated": false,
       "validationRegex": null
      }
     }
    },
    "proc_run_id": {
     "currentValue": "",
     "nuid": "7009d13f-c851-4f65-9cf5-be13a885b2a4",
     "typedWidgetInfo": {
      "autoCreated": false,
      "defaultValue": "",
      "label": "Process Run ID",
      "name": "proc_run_id",
      "options": {
       "widgetDisplayType": "Text",
       "validationRegex": null
      },
      "parameterDataType": "String"
     },
     "widgetInfo": {
      "widgetType": "text",
      "defaultValue": "",
      "label": "Process Run ID",
      "name": "proc_run_id",
      "options": {
       "widgetType": "text",
       "autoCreated": false,
       "validationRegex": null
      }
     }
    }
   }
  },
  "language_info": {
   "name": "python"
  }
 },
 "nbformat": 4,
 "nbformat_minor": 0
}
