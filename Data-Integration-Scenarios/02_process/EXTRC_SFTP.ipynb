{
 "cells": [
  {
   "cell_type": "code",
   "execution_count": 0,
   "metadata": {
    "application/vnd.databricks.v1+cell": {
     "cellMetadata": {
      "byteLimit": 2048000,
      "rowLimit": 10000
     },
     "inputWidgets": {},
     "nuid": "739ad6c5-fb74-4259-a91c-6fa9ba937e86",
     "showTitle": false,
     "tableResultSettingsMap": {},
     "title": ""
    }
   },
   "outputs": [],
   "source": [
    "dbutils.widgets.text(\"proc_name\", \"\", \"Process Name\")\n",
    "dbutils.widgets.text(\"proc_run_id\", \"\", \"Process Run ID\")\n",
    "dbutils.widgets.text(\"data_dt\", \"\", \"Data Date\")\n",
    "proc_name = dbutils.widgets.get(\"proc_name\")\n",
    "proc_run_id = dbutils.widgets.get(\"proc_run_id\")\n",
    "data_dt = dbutils.widgets.get(\"data_dt\")"
   ]
  },
  {
   "cell_type": "code",
   "execution_count": 0,
   "metadata": {
    "application/vnd.databricks.v1+cell": {
     "cellMetadata": {
      "byteLimit": 2048000,
      "rowLimit": 10000
     },
     "inputWidgets": {},
     "nuid": "6f873c81-8b0c-4698-a8cf-210fb6375d33",
     "showTitle": false,
     "tableResultSettingsMap": {},
     "title": ""
    }
   },
   "outputs": [],
   "source": [
    "%run /Workspace/Users/themallpocaws@inteltion.com/Data-Integration-Scenarios/00_common/common_function"
   ]
  },
  {
   "cell_type": "code",
   "execution_count": 0,
   "metadata": {
    "application/vnd.databricks.v1+cell": {
     "cellMetadata": {
      "byteLimit": 2048000,
      "rowLimit": 10000
     },
     "inputWidgets": {},
     "nuid": "0e8631a8-27af-41dd-a44c-eb2cf3471eae",
     "showTitle": false,
     "tableResultSettingsMap": {},
     "title": ""
    }
   },
   "outputs": [],
   "source": [
    "%pip install paramiko\n",
    "%pip install boto3 python-gnupg"
   ]
  },
  {
   "cell_type": "code",
   "execution_count": 0,
   "metadata": {
    "application/vnd.databricks.v1+cell": {
     "cellMetadata": {
      "byteLimit": 2048000,
      "rowLimit": 10000
     },
     "inputWidgets": {},
     "nuid": "e258bba2-64e8-4731-8a8d-232113d84b0c",
     "showTitle": false,
     "tableResultSettingsMap": {},
     "title": ""
    }
   },
   "outputs": [],
   "source": [
    "import boto3\n",
    "from botocore.exceptions import ClientError\n",
    "import paramiko\n",
    "from io import StringIO, BytesIO\n",
    "import pandas as pd\n",
    "import os\n",
    "import tempfile\n",
    "import sys\n",
    "import time\n",
    "import gnupg"
   ]
  },
  {
   "cell_type": "code",
   "execution_count": 0,
   "metadata": {
    "application/vnd.databricks.v1+cell": {
     "cellMetadata": {
      "byteLimit": 2048000,
      "rowLimit": 10000
     },
     "inputWidgets": {},
     "nuid": "7aa635f4-9294-4d55-8dc1-730e95cbf952",
     "showTitle": false,
     "tableResultSettingsMap": {},
     "title": ""
    }
   },
   "outputs": [],
   "source": [
    "def get_secret():\n",
    "  secret_name = \"TMG/POC/SFTP\"\n",
    "  region_name = \"ap-southeast-1\"\n",
    "\n",
    "  # Create a Secrets Manager client\n",
    "  session = boto3.session.Session()\n",
    "  client = session.client(\n",
    "      service_name='secretsmanager',\n",
    "      region_name=region_name\n",
    "  )\n",
    "\n",
    "  try:\n",
    "      get_secret_value_response = client.get_secret_value(\n",
    "          SecretId=secret_name\n",
    "      )\n",
    "  except ClientError as e:\n",
    "      # For a list of exceptions thrown, see\n",
    "      # https://docs.aws.amazon.com/secretsmanager/latest/apireference/API_GetSecretValue.html\n",
    "      raise e\n",
    "  \n",
    "  return json.loads(get_secret_value_response['SecretString'])"
   ]
  },
  {
   "cell_type": "code",
   "execution_count": 0,
   "metadata": {
    "application/vnd.databricks.v1+cell": {
     "cellMetadata": {
      "byteLimit": 2048000,
      "rowLimit": 10000
     },
     "inputWidgets": {},
     "nuid": "c2f92419-b1fc-44a4-85e2-2b8a132b2dcc",
     "showTitle": false,
     "tableResultSettingsMap": {},
     "title": ""
    }
   },
   "outputs": [],
   "source": [
    "def progress_callback(transferred, total):\n",
    "    current_time = time.time()\n",
    "    # Only update if more than 1 second has passed since the last update\n",
    "    if current_time - last_update_time[0] >= 1 or transferred == total:\n",
    "        percent = transferred / total * 100\n",
    "        sys.stdout.write(f\"\\rTransferred: {transferred} / {total} bytes ({percent:.2f}%)\")\n",
    "        sys.stdout.flush()\n",
    "        last_update_time[0] = current_time"
   ]
  },
  {
   "cell_type": "code",
   "execution_count": 0,
   "metadata": {
    "application/vnd.databricks.v1+cell": {
     "cellMetadata": {
      "byteLimit": 2048000,
      "rowLimit": 10000
     },
     "inputWidgets": {},
     "nuid": "6823ad77-6728-4b11-88f8-2469bffbb26a",
     "showTitle": false,
     "tableResultSettingsMap": {},
     "title": ""
    }
   },
   "outputs": [],
   "source": [
    "def get_file_path(data_dt):\n",
    "    _data_dt=data_dt.replace(\"-\",\"\") \n",
    "    if _data_dt=='20190921':\n",
    "        return {\"remote_file_path\":\"/shared/uat/DWH_POC/Out/POC_20190921.csv.gpg\",\n",
    "                \"s3_bucket\":\"s3://tmg-poc-awsdb-apse1-stack-97db8-bucket/unity-catalog/catalog/poc_raw/POC_20190921.csv.gpg\"}\n",
    "    elif _data_dt=='20190920':\n",
    "        return {\"remote_file_path\":\"/shared/uat/DWH_POC/Out/POC_20190920.csv\",\n",
    "                \"s3_bucket\":\"s3://tmg-poc-awsdb-apse1-stack-97db8-bucket/unity-catalog/catalog/poc_raw/POC_20190920.csv\"}\n",
    "    else:\n",
    "        raise SystemError(f\"Invalid data date, File with date {data_dt} does not exist (TMG didn't provided)\")\n",
    "    "
   ]
  },
  {
   "cell_type": "code",
   "execution_count": 0,
   "metadata": {
    "application/vnd.databricks.v1+cell": {
     "cellMetadata": {
      "byteLimit": 2048000,
      "rowLimit": 10000
     },
     "inputWidgets": {},
     "nuid": "457fe81e-d901-4884-8c9a-60b35ea679d6",
     "showTitle": false,
     "tableResultSettingsMap": {},
     "title": ""
    }
   },
   "outputs": [],
   "source": [
    "def decrypt_gpg(data_dt,gpg_decrypt_passphrase):\n",
    "\n",
    "    try:\n",
    "        thai_tz = pytz.timezone('Asia/Bangkok')\n",
    "        timestamp = datetime.now(thai_tz).strftime('%Y%m%d%H%M%S')\n",
    "        _data_dt=data_dt.replace(\"-\",\"\") \n",
    "        # Define S3 Paths\n",
    "        s3_bucket = \"s3://tmg-poc-awsdb-apse1-stack-97db8-bucket/unity-catalog/catalog/\"\n",
    "        gpg_private_key_s3 = s3_bucket + \"poc_landing/TMG-POC-DWH-Vendors_0x4BB20771_SECRET.asc\"\n",
    "        encrypted_csv_s3 = s3_bucket + f\"poc_raw/POC_{_data_dt}.csv.gpg\"\n",
    "        decrypted_csv_s3 = s3_bucket + f\"poc_raw/POC_{_data_dt}.csv\"\n",
    "\n",
    "        # Define Local Paths\n",
    "        local_privkey_path = f\"/tmp/TMG-POC-DWH-Vendors_0x4BB20771_SECRET.asc\"\n",
    "        encrypted_csv_path = f\"/tmp/POC_{_data_dt}.csv.gpg\"\n",
    "        decrypted_csv_path = f\"/tmp/POC_{_data_dt}.csv\"\n",
    "\n",
    "        # Step 1: Download the Private Key and Encrypted CSV from S3 to Local\n",
    "        dbutils.fs.cp(gpg_private_key_s3, \"file:\" + local_privkey_path)\n",
    "        print(\" Private key downloaded from S3 to:\", local_privkey_path)\n",
    "\n",
    "        dbutils.fs.cp(encrypted_csv_s3, \"file:\" + encrypted_csv_path)\n",
    "        print(\" Encrypted CSV file downloaded from S3 to:\", encrypted_csv_path)\n",
    "\n",
    "        # Step 2: Initialize GPG and Import the Private Key\n",
    "        gpg = gnupg.GPG()\n",
    "\n",
    "        with open(local_privkey_path, \"r\") as key_file:\n",
    "            private_key_data = key_file.read()\n",
    "\n",
    "        import_result = gpg.import_keys(private_key_data)\n",
    "        print(\"Imported private key:\", import_result.results)\n",
    "\n",
    "        # Step 3: Read the Encrypted CSV File\n",
    "        with open(encrypted_csv_path, 'rb') as enc_file:\n",
    "            encrypted_content = enc_file.read()\n",
    "\n",
    "        # Step 4: Decrypt the CSV File Using the Private Key and Passphrase\n",
    "        decrypted_data = gpg.decrypt(encrypted_content, passphrase=gpg_decrypt_passphrase)\n",
    "        if not decrypted_data.ok:\n",
    "            raise Exception(\"Decryption failed: \" + decrypted_data.status)\n",
    "        # Step 5: Save the Decrypted CSV File Locally\n",
    "        with open(decrypted_csv_path, \"w\") as dec_file:\n",
    "            dec_file.write(str(decrypted_data))\n",
    "        print(\"Decrypted CSV file saved locally at:\", decrypted_csv_path)\n",
    "\n",
    "        # Step 6: Upload the Decrypted CSV File Back to S3\n",
    "        dbutils.fs.cp(\"file:\" + decrypted_csv_path, decrypted_csv_s3)\n",
    "        print(\"Decrypted CSV file uploaded to S3 at:\", decrypted_csv_s3)\n",
    "\n",
    "        #Move decrypted file to archived folder\n",
    "        thai_tz = pytz.timezone('Asia/Bangkok')\n",
    "        _archived_data_file = f's3://tmg-poc-awsdb-apse1-stack-97db8-bucket/unity-catalog/catalog/poc_raw/archived/{timestamp}/POC_{_data_dt}.csv.gpg'\n",
    "        dbutils.fs.cp(encrypted_csv_s3, _archived_data_file, True)\n",
    "        dbutils.fs.rm(encrypted_csv_s3)\n",
    "        \n",
    "    except Exception as err:\n",
    "        print(f'error : {err}')\n",
    "        raise err\n",
    "\n",
    "    finally:\n",
    "        for i in [local_privkey_path,encrypted_csv_path,decrypted_csv_path]:\n",
    "            if os.path.exists(i):\n",
    "                os.remove(i)\n",
    "                print(f'Deleted local file : {i}')   "
   ]
  },
  {
   "cell_type": "code",
   "execution_count": 0,
   "metadata": {
    "application/vnd.databricks.v1+cell": {
     "cellMetadata": {
      "byteLimit": 2048000,
      "rowLimit": 10000
     },
     "inputWidgets": {},
     "nuid": "5ec7e244-847e-4bd1-bbac-2a8ed731a7aa",
     "showTitle": false,
     "tableResultSettingsMap": {},
     "title": ""
    }
   },
   "outputs": [],
   "source": [
    "# SFTP connection details\n",
    "secret = get_secret() #Get SFTP secrets\n",
    "hostname = secret[\"hostname\"]\n",
    "username = secret[\"username\"]\n",
    "password = secret[\"password\"]\n",
    "port = int(secret[\"port\"])\n",
    "gpg_decrypt_passphrase = secret[\"gpg_decrypt_passphrase\"]\n"
   ]
  },
  {
   "cell_type": "code",
   "execution_count": 0,
   "metadata": {
    "application/vnd.databricks.v1+cell": {
     "cellMetadata": {
      "byteLimit": 2048000,
      "rowLimit": 10000
     },
     "inputWidgets": {},
     "nuid": "6d7c4db9-87b9-4931-83d8-6d66f4e7f346",
     "showTitle": false,
     "tableResultSettingsMap": {},
     "title": ""
    }
   },
   "outputs": [],
   "source": [
    "# Main process and throw error for a WorkflowException.\n",
    "batch_status=set_process_success()\n",
    "try:\n",
    "    print(f\"=> start process. : {proc_name} Process Run ID : {proc_run_id}\")\n",
    " \n",
    "    file_path = get_file_path(data_dt)\n",
    "    remote_file_path = file_path['remote_file_path']  # Remote file location on the SFTP server\n",
    "    s3_bucket = file_path['s3_bucket']\n",
    "\n",
    "    timestamp = datetime.now().strftime('%Y%m%d%H%M%S')\n",
    "    tmp_dir=f'/tmp/{timestamp}/'\n",
    "    \n",
    "    last_update_time = [0]\n",
    "    \n",
    "    # Create a transport object\n",
    "    transport = paramiko.Transport((hostname, port))\n",
    "    \n",
    "    # Connect to the SFTP server using the private key\n",
    "    transport.connect(username=username, password=password)\n",
    "    \n",
    "    # Create an SFTP session\n",
    "    sftp = paramiko.SFTPClient.from_transport(transport)\n",
    "\n",
    "    # Create a temporary file in the specified directory on DBFS\n",
    "    if not os.path.exists(tmp_dir):\n",
    "        os.makedirs(tmp_dir)\n",
    "    with tempfile.NamedTemporaryFile(delete=False, dir=tmp_dir) as tmp_file:\n",
    "        local_file_path = tmp_file.name\n",
    "    \n",
    "    # Download the remote file to the local temporary file\n",
    "    file_stat = sftp.stat(remote_file_path)\n",
    "    print(f\"File size: {file_stat.st_size} bytes\")\n",
    "    sftp.get(remote_file_path, local_file_path, callback=progress_callback)\n",
    "\n",
    "    print(f\"Downloaded {remote_file_path} to local temporary file: {local_file_path}\")\n",
    "\n",
    "    dbutils.fs.cp(\"file:\" + local_file_path, s3_bucket)\n",
    "    print(f'Copied {local_file_path} to {s3_bucket}')\n",
    "    if s3_bucket.endswith(\"gpg\"):\n",
    "        print(f'Starting decrypt on : {s3_bucket}')\n",
    "        decrypt_gpg(data_dt,gpg_decrypt_passphrase)\n",
    "    else:\n",
    "        print(\"Extracted file does not encrypted, skip decrypt phase\")\n",
    "\n",
    "except Exception as e:\n",
    "    print(f\"An error occurred: {e}\")\n",
    "    batch_status=set_process_failed(e)\n",
    "\n",
    "finally:\n",
    "    # Clean up the temporary file and close connections\n",
    "    if os.path.exists(local_file_path):\n",
    "        os.remove(local_file_path)\n",
    "    sftp.close()\n",
    "    transport.close()\n",
    "dbutils.notebook.exit(batch_status)"
   ]
  }
 ],
 "metadata": {
  "application/vnd.databricks.v1+notebook": {
   "computePreferences": null,
   "dashboards": [],
   "environmentMetadata": {
    "base_environment": "",
    "environment_version": "2"
   },
   "language": "python",
   "notebookMetadata": {
    "pythonIndentUnit": 4
   },
   "notebookName": "EXTRC_SFTP",
   "widgets": {
    "data_dt": {
     "currentValue": "2019-09-21",
     "nuid": "a16b8490-0af5-4a15-8c5b-a9fb04ab27a8",
     "typedWidgetInfo": {
      "autoCreated": false,
      "defaultValue": "",
      "label": "Data Date",
      "name": "data_dt",
      "options": {
       "widgetDisplayType": "Text",
       "validationRegex": null
      },
      "parameterDataType": "String"
     },
     "widgetInfo": {
      "widgetType": "text",
      "defaultValue": "",
      "label": "Data Date",
      "name": "data_dt",
      "options": {
       "widgetType": "text",
       "autoCreated": null,
       "validationRegex": null
      }
     }
    },
    "proc_name": {
     "currentValue": "EXTRC_SFTP",
     "nuid": "ac7a2d61-31a6-41d6-a194-3115d41af3c1",
     "typedWidgetInfo": {
      "autoCreated": false,
      "defaultValue": "",
      "label": "Process Name",
      "name": "proc_name",
      "options": {
       "widgetDisplayType": "Text",
       "validationRegex": null
      },
      "parameterDataType": "String"
     },
     "widgetInfo": {
      "widgetType": "text",
      "defaultValue": "",
      "label": "Process Name",
      "name": "proc_name",
      "options": {
       "widgetType": "text",
       "autoCreated": null,
       "validationRegex": null
      }
     }
    },
    "proc_run_id": {
     "currentValue": "2",
     "nuid": "5a12c7d5-f3de-4893-ae8b-db796d7d8131",
     "typedWidgetInfo": {
      "autoCreated": false,
      "defaultValue": "",
      "label": "Process Run ID",
      "name": "proc_run_id",
      "options": {
       "widgetDisplayType": "Text",
       "validationRegex": null
      },
      "parameterDataType": "String"
     },
     "widgetInfo": {
      "widgetType": "text",
      "defaultValue": "",
      "label": "Process Run ID",
      "name": "proc_run_id",
      "options": {
       "widgetType": "text",
       "autoCreated": null,
       "validationRegex": null
      }
     }
    }
   }
  },
  "language_info": {
   "name": "python"
  }
 },
 "nbformat": 4,
 "nbformat_minor": 0
}
