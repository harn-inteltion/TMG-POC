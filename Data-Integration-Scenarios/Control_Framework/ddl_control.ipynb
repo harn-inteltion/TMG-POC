{
 "cells": [
  {
   "cell_type": "code",
   "execution_count": 0,
   "metadata": {
    "application/vnd.databricks.v1+cell": {
     "cellMetadata": {
      "byteLimit": 2048000,
      "rowLimit": 10000
     },
     "inputWidgets": {},
     "nuid": "3d082023-4e55-4d7a-b25f-b676e1937a08",
     "showTitle": false,
     "tableResultSettingsMap": {},
     "title": ""
    }
   },
   "outputs": [],
   "source": [
    "%sql\n",
    "use catalog poc_stg;\n",
    "use schema cntrlfw;"
   ]
  },
  {
   "cell_type": "code",
   "execution_count": 0,
   "metadata": {
    "application/vnd.databricks.v1+cell": {
     "cellMetadata": {
      "byteLimit": 2048000,
      "rowLimit": 10000
     },
     "inputWidgets": {},
     "nuid": "585ae870-d459-4e98-aecd-cba46ddabc2e",
     "showTitle": false,
     "tableResultSettingsMap": {},
     "title": ""
    }
   },
   "outputs": [],
   "source": [
    "truncate table poc_stg.cntrlfw.cntrl_config_proc;"
   ]
  },
  {
   "cell_type": "code",
   "execution_count": 0,
   "metadata": {
    "application/vnd.databricks.v1+cell": {
     "cellMetadata": {
      "byteLimit": 2048000,
      "rowLimit": 10000
     },
     "inputWidgets": {},
     "nuid": "3f31a732-daaa-4e3a-b459-ec8e07268571",
     "showTitle": false,
     "tableResultSettingsMap": {},
     "title": ""
    }
   },
   "outputs": [],
   "source": [
    "\n",
    "truncate table poc_stg.cntrlfw.cntrl_inbound_file_log;\n",
    "truncate table poc_stg.cntrlfw.cntrl_proc_log;\n",
    "truncate table poc_stg.cntrlfw.cntrl_proc_status;"
   ]
  },
  {
   "cell_type": "markdown",
   "metadata": {
    "application/vnd.databricks.v1+cell": {
     "cellMetadata": {},
     "inputWidgets": {},
     "nuid": "c2c72e0e-e583-4ef4-8f25-97700d208596",
     "showTitle": false,
     "tableResultSettingsMap": {},
     "title": ""
    }
   },
   "source": [
    "##USAGE "
   ]
  },
  {
   "cell_type": "code",
   "execution_count": 0,
   "metadata": {
    "application/vnd.databricks.v1+cell": {
     "cellMetadata": {
      "byteLimit": 2048000,
      "rowLimit": 10000
     },
     "inputWidgets": {},
     "nuid": "34f37401-f962-4e35-a899-6488579f5852",
     "showTitle": false,
     "tableResultSettingsMap": {},
     "title": ""
    }
   },
   "outputs": [],
   "source": [
    "INSERT INTO poc_stg.cntrlfw.cntrl_config_proc ( proc_name, proc_type, is_active, data_back_day, run_period, data_freq, notebook_path, script_path, src_system, src_file_name, src_delimeter, src_volume_name, trgt_tbl_name, created_by, created_dtm) VALUES\n",
    "('EXTRC_POC_SFTP', 'extract' ,1 ,1 ,1 ,'D', '/Workspace/Users/themallpocaws@inteltion.com/Data-Integration-Scenarios/02_process/EXTRC_SFTP' ,null, 'TMG', null, null, null, null, 'harn@inteltion.com', current_timestamp())\n",
    ",\n",
    "('INB_POC', 'inbound' ,1 ,1 ,1 ,'D', '/Workspace/Users/themallpocaws@inteltion.com/Data-Integration-Scenarios/00_common/common_inbound' ,null, 'TMG', 'POC', '|', 'poc_raw', 'poc_stg.bronze.poc_raw', 'harn@inteltion.com', current_timestamp()),\n",
    "('INB_IRIS', 'inbound' ,1 ,1 ,1 ,'D', '/Workspace/Users/themallpocaws@inteltion.com/Data-Integration-Scenarios/00_common/common_inbound' ,null, 'TMG', 'iris.parquet', 'FIX', 'poc_raw', 'poc_stg.poc.iris', 'harn@inteltion.com', current_timestamp()),\n",
    "('INB_RDBMS_MYSQL', 'inbound' ,1 ,1 ,1 ,'D', '/Workspace/Users/themallpocaws@inteltion.com/Data-Integration-Scenarios/00_common/common_inbound' ,null, 'MySQL', 'MULTIPLE', 'FIX', 'mysql', 'poc_stg.bronze.mysql_customer', 'harn@inteltion.com', current_timestamp()),\n",
    "('INB_NOSQL_MONGODB', 'inbound' ,1 ,1 ,1 ,'D', '/Workspace/Users/themallpocaws@inteltion.com/Data-Integration-Scenarios/00_common/common_inbound' ,null, 'MongoDB', 'MULTIPLE', 'FIX', 'mongodb', 'poc_stg.bronze.mongodb_supplies_sales', 'harn@inteltion.com', current_timestamp()),\n",
    "('INB_JSON_FORECAST', 'inbound' ,1 ,1 ,1 ,'D', '/Workspace/Users/themallpocaws@inteltion.com/Data-Integration-Scenarios/01_inbound/INB_JSON_FORECAST' ,null, 'TMG', 'forecast.json', 'FIX', 'poc_raw', 'poc_stg.poc.forecast', 'harn@inteltion.com', current_timestamp()),\n",
    "('INB_API_TH_WEATHER_FORECAST', 'inbound' ,1 ,1 ,1 ,'D', '/Workspace/Users/themallpocaws@inteltion.com/Data-Integration-Scenarios/01_inbound/INB_API_TH_WEATHER_FORECAST' ,null, 'Public API', null, null, null, 'poc_dwh.poc.th_weather_forecast', 'harn@inteltion.com', current_timestamp()),\n",
    "\n",
    "('TRNF_POC_RAW', 'transform' ,1 ,1 ,1 ,'D', '/Workspace/Users/themallpocaws@inteltion.com/Data-Integration-Scenarios/00_common/common_transform' ,'/Workspace/Users/themallpocaws@inteltion.com/Data-Integration-Scenarios/03_transform/Scripts/TRNF_POC_STG_POC_RAW.sql', 'TMG', null, null, null, null, 'harn@inteltion.com', current_timestamp()),\n",
    "('TRNF_RDBMS_MYSQL', 'transform' ,1 ,1 ,1 ,'D', '/Workspace/Users/themallpocaws@inteltion.com/Data-Integration-Scenarios/00_common/common_transform' ,'/Workspace/Users/themallpocaws@inteltion.com/Data-Integration-Scenarios/03_transform/Scripts/TRNF_MySQL_Customer.sql', 'MySQL', null, null, null, null, 'harn@inteltion.com', current_timestamp()),\n",
    "('TRNF_NOSQL_MONGODB', 'transform' ,1 ,1 ,1 ,'D', '/Workspace/Users/themallpocaws@inteltion.com/Data-Integration-Scenarios/00_common/common_transform' ,'/Workspace/Users/themallpocaws@inteltion.com/Data-Integration-Scenarios/03_transform/Scripts/TRNF_MongoDB_SUPPLIES_SALES.sql', 'MongoDB', null, null, null, null, 'harn@inteltion.com', current_timestamp())\n",
    ",\n",
    "('TRNF_POC_FACT_SALES', 'transform' ,1 ,1 ,1 ,'D', '/Workspace/Users/themallpocaws@inteltion.com/Data-Integration-Scenarios/00_common/common_transform' ,'/Workspace/Users/themallpocaws@inteltion.com/Data-Integration-Scenarios/03_transform/Scripts/TRNF_POC_DWH_POC_FACT_SALES.sql', 'TMG', null, null, null, null, 'harn@inteltion.com', current_timestamp())\n"
   ]
  },
  {
   "cell_type": "code",
   "execution_count": 0,
   "metadata": {
    "application/vnd.databricks.v1+cell": {
     "cellMetadata": {
      "byteLimit": 2048000,
      "rowLimit": 10000
     },
     "inputWidgets": {},
     "nuid": "19d6e5ce-7df3-48f2-8db8-d8b652e2712a",
     "showTitle": false,
     "tableResultSettingsMap": {},
     "title": ""
    }
   },
   "outputs": [],
   "source": [
    "INSERT INTO poc_stg.cntrlfw.cntrl_config_proc ( proc_name, proc_type, is_active, data_back_day, run_period, data_freq, notebook_path, script_path, src_system, src_file_name, src_delimeter, src_volume_name, trgt_tbl_name, created_by, created_dtm) VALUES\n",
    "('OUTB_POC_FACT_SALES_ENCRYPT_SFTP', 'outbound' ,1 ,1 ,1 ,'D', '/Workspace/Users/themallpocaws@inteltion.com/Data-Integration-Scenarios/02_process/OUTB_POC_FACT_SALES_ENCRYPT_SFTP' ,null, 'TMG', null, null, null, null, 'harn@inteltion.com', current_timestamp()),\n",
    "('OUTB_AZURE_STORAGE', 'outbound' ,1 ,1 ,1 ,'D', '/Workspace/Users/themallpocaws@inteltion.com/Data-Integration-Scenarios/02_process/OUTB_AZURE_STORAGE' ,null, null, null, null, null, null, 'harn@inteltion.com', current_timestamp())\n",
    "\n"
   ]
  },
  {
   "cell_type": "code",
   "execution_count": 0,
   "metadata": {
    "application/vnd.databricks.v1+cell": {
     "cellMetadata": {
      "byteLimit": 2048000,
      "rowLimit": 10000
     },
     "inputWidgets": {},
     "nuid": "ff13a2bd-e71f-4a5d-82d3-cd9bf920fa64",
     "showTitle": false,
     "tableResultSettingsMap": {},
     "title": ""
    }
   },
   "outputs": [],
   "source": [
    "select proc_name,proc_type,data_freq,notebook_path,script_path from poc_stg.cntrlfw.cntrl_config_proc\n",
    "where notebook_path not like ('%common%') \n"
   ]
  },
  {
   "cell_type": "code",
   "execution_count": 0,
   "metadata": {
    "application/vnd.databricks.v1+cell": {
     "cellMetadata": {
      "byteLimit": 2048000,
      "rowLimit": 10000
     },
     "inputWidgets": {},
     "nuid": "f7049845-bacf-4051-9d49-f8c077dbbee8",
     "showTitle": false,
     "tableResultSettingsMap": {},
     "title": ""
    }
   },
   "outputs": [],
   "source": [
    "select * from poc_stg.cntrlfw.cntrl_config_proc"
   ]
  },
  {
   "cell_type": "code",
   "execution_count": 0,
   "metadata": {
    "application/vnd.databricks.v1+cell": {
     "cellMetadata": {
      "byteLimit": 2048000,
      "rowLimit": 10000
     },
     "inputWidgets": {},
     "nuid": "0ea55d5b-6110-4c86-a2ea-e43416700414",
     "showTitle": false,
     "tableResultSettingsMap": {},
     "title": ""
    }
   },
   "outputs": [],
   "source": [
    "select * from poc_stg.cntrlfw.cntrl_inbound_file_log;\n"
   ]
  },
  {
   "cell_type": "code",
   "execution_count": 0,
   "metadata": {
    "application/vnd.databricks.v1+cell": {
     "cellMetadata": {
      "byteLimit": 2048000,
      "rowLimit": 10000
     },
     "inputWidgets": {},
     "nuid": "b2c83ae6-99f4-4b89-9e29-cecad5c9beb7",
     "showTitle": false,
     "tableResultSettingsMap": {},
     "title": ""
    }
   },
   "outputs": [],
   "source": [
    "\n",
    "select * from poc_stg.cntrlfw.cntrl_proc_log;\n"
   ]
  },
  {
   "cell_type": "code",
   "execution_count": 0,
   "metadata": {
    "application/vnd.databricks.v1+cell": {
     "cellMetadata": {
      "byteLimit": 2048000,
      "rowLimit": 10000
     },
     "inputWidgets": {},
     "nuid": "6b7ace5d-1a84-48e3-8cb9-64c3180cd3d8",
     "showTitle": false,
     "tableResultSettingsMap": {},
     "title": ""
    }
   },
   "outputs": [],
   "source": [
    "select * from poc_stg.cntrlfw.cntrl_proc_status;"
   ]
  },
  {
   "cell_type": "code",
   "execution_count": 0,
   "metadata": {
    "application/vnd.databricks.v1+cell": {
     "cellMetadata": {
      "byteLimit": 2048000,
      "rowLimit": 10000
     },
     "inputWidgets": {},
     "nuid": "5433fdf1-18de-4265-947c-412dbf949c5b",
     "showTitle": false,
     "tableResultSettingsMap": {},
     "title": ""
    }
   },
   "outputs": [],
   "source": [
    "\n",
    "\n",
    "insert into poc_stg.cntrlfw.cntrl_config_proc (proc_name,proc_type,is_active,data_back_day,data_freq,notebook_path,script_path,src_system,src_file_name,src_delimeter,src_volume_name,trgt_tbl_name,created_by,created_dtm,updated_by,updated_dtm,run_period )\n",
    "select 'EXTRC_SFTP','extract',1,1,'D','/Workspace/Users/themallpocaws@inteltion.com/Data-Integration-Scenarios/02_process/EXTRC_SFTP',null,'TMG',null,null,null,null,'harn@inteltion.com',getdate(),null,null,1;"
   ]
  },
  {
   "cell_type": "code",
   "execution_count": 0,
   "metadata": {
    "application/vnd.databricks.v1+cell": {
     "cellMetadata": {
      "byteLimit": 2048000,
      "rowLimit": 10000
     },
     "inputWidgets": {},
     "nuid": "db7a4382-cecb-498b-b833-4c20f8625258",
     "showTitle": false,
     "tableResultSettingsMap": {},
     "title": ""
    }
   },
   "outputs": [],
   "source": [
    "\n",
    "--TH_WEATHER_FORECAST\n",
    "insert into poc_stg.cntrlfw.cntrl_config_proc (proc_name,proc_type,is_active,data_back_day,data_freq,notebook_path,script_path,src_system,src_file_name,src_delimeter,src_volume_name,trgt_tbl_name,created_by,created_dtm,updated_by,updated_dtm,run_period )\n",
    "select 'INB_TH_WEATHER_FORECAST','inbound',1,1,'D','/Workspace/Users/themallpocaws@inteltion.com/Data-Integration-Scenarios/01_inbound/INB_TH_WEATHER_FORECAST',null,'Public API',null,null,null,'poc_dwh.poc.th_weather_forecast','harn@inteltion.com',getdate(),null,null,1;"
   ]
  },
  {
   "cell_type": "code",
   "execution_count": 0,
   "metadata": {
    "application/vnd.databricks.v1+cell": {
     "cellMetadata": {
      "byteLimit": 2048000,
      "rowLimit": 10000
     },
     "inputWidgets": {},
     "nuid": "c0d15f3a-fcdb-4083-a673-ea0d6a7dad78",
     "showTitle": false,
     "tableResultSettingsMap": {},
     "title": ""
    }
   },
   "outputs": [],
   "source": [
    "--IRIS\n",
    "insert into poc_stg.cntrlfw.cntrl_config_proc (proc_name,proc_type,is_active,data_back_day,data_freq,notebook_path,script_path,src_system,src_file_name,src_delimeter,src_volume_name,trgt_tbl_name,created_by,created_dtm,updated_by,updated_dtm,run_period )\n",
    "select 'INB_IRIS','inbound',1,1,'D','/Workspace/Users/themallpocaws@inteltion.com/Data-Integration-Scenarios/00_common/common_inbound',null,'TMG','iris.parquet','FIX','poc_raw','poc_stg.bronze.iris','harn@inteltion.com',getdate(),null,null,1;"
   ]
  },
  {
   "cell_type": "code",
   "execution_count": 0,
   "metadata": {
    "application/vnd.databricks.v1+cell": {
     "cellMetadata": {
      "byteLimit": 2048000,
      "rowLimit": 10000
     },
     "inputWidgets": {},
     "nuid": "86c92038-0ec0-4750-976d-3e62b2430d81",
     "showTitle": false,
     "tableResultSettingsMap": {},
     "title": ""
    }
   },
   "outputs": [],
   "source": [
    "select * from poc_stg.cntrlfw.cntrl_config_proc;\n"
   ]
  },
  {
   "cell_type": "code",
   "execution_count": 0,
   "metadata": {
    "application/vnd.databricks.v1+cell": {
     "cellMetadata": {
      "byteLimit": 2048000,
      "rowLimit": 10000
     },
     "inputWidgets": {},
     "nuid": "dd0af109-45f5-47dd-81c8-a39b93894932",
     "showTitle": false,
     "tableResultSettingsMap": {},
     "title": ""
    }
   },
   "outputs": [],
   "source": [
    "\n",
    "insert into poc_stg.cntrlfw.cntrl_config_proc (proc_name,proc_type,is_active,data_back_day,data_freq,notebook_path,script_path,src_system,src_file_name,src_delimeter,src_volume_name,trgt_tbl_name,created_by,created_dtm,updated_by,updated_dtm,run_period )\n",
    "select 'TRNF_POC_STG.POC_RAW','transform',1,1,'D','/Workspace/Users/themallpocaws@inteltion.com/Data-Integration-Scenarios/00_common/common_transform','/Workspace/Users/themallpocaws@inteltion.com/Data-Integration-Scenarios/03_transform/Scripts/TRNF_POC_STG_POC_RAW.sql','TMG',null,null,null,null,'harn@inteltion.com',getdate(),null,null,1;"
   ]
  },
  {
   "cell_type": "code",
   "execution_count": 0,
   "metadata": {
    "application/vnd.databricks.v1+cell": {
     "cellMetadata": {
      "byteLimit": 2048000,
      "rowLimit": 10000
     },
     "inputWidgets": {},
     "nuid": "06e0ae05-b3b3-4a75-a111-35aeb2a75000",
     "showTitle": false,
     "tableResultSettingsMap": {},
     "title": ""
    }
   },
   "outputs": [],
   "source": [
    "\n",
    "insert into poc_stg.cntrlfw.cntrl_config_proc (proc_name,proc_type,is_active,data_back_day,data_freq,notebook_path,script_path,src_system,src_file_name,src_delimeter,src_volume_name,trgt_tbl_name,created_by,created_dtm,updated_by,updated_dtm,run_period )\n",
    "select 'TRNF_POC_DWH_POC_FACT_SALES','transform',1,1,'D','/Workspace/Users/themallpocaws@inteltion.com/Data-Integration-Scenarios/00_common/common_transform','/Workspace/Users/themallpocaws@inteltion.com/Data-Integration-Scenarios/03_transform/Scripts/TRNF_POC_DWH_POC_FACT_SALES.sql','TMG',null,null,null,null,'harn@inteltion.com',getdate(),null,null,1;"
   ]
  },
  {
   "cell_type": "code",
   "execution_count": 0,
   "metadata": {
    "application/vnd.databricks.v1+cell": {
     "cellMetadata": {
      "byteLimit": 2048000,
      "rowLimit": 10000
     },
     "inputWidgets": {},
     "nuid": "a0ac41a5-172b-43f1-bc23-c59d7f2baee4",
     "showTitle": false,
     "tableResultSettingsMap": {},
     "title": ""
    }
   },
   "outputs": [],
   "source": [
    "--POC_20190920\n",
    "insert into poc_stg.cntrlfw.cntrl_config_proc (proc_name,proc_type,is_active,data_back_day,data_freq,notebook_path,script_path,src_system,src_file_name,src_delimeter,src_volume_name,trgt_tbl_name,created_by,created_dtm,updated_by,updated_dtm,run_period )\n",
    "select 'INB_POC','inbound',1,1,'D','/Workspace/Users/themallpocaws@inteltion.com/Data-Integration-Scenarios/00_common/common_inbound',null,'TMG','POC','|','poc_raw','bronze.poc_bronze','harn@inteltion.com',getdate(),null,null,1;"
   ]
  },
  {
   "cell_type": "markdown",
   "metadata": {
    "application/vnd.databricks.v1+cell": {
     "cellMetadata": {},
     "inputWidgets": {},
     "nuid": "54923fc5-6bf9-4c63-ab03-8c22d9714dc4",
     "showTitle": false,
     "tableResultSettingsMap": {},
     "title": ""
    }
   },
   "source": [
    "#### ETL"
   ]
  },
  {
   "cell_type": "code",
   "execution_count": 0,
   "metadata": {
    "application/vnd.databricks.v1+cell": {
     "cellMetadata": {
      "byteLimit": 2048000,
      "rowLimit": 10000
     },
     "inputWidgets": {},
     "nuid": "519c6fb4-c6b2-4d2c-a716-848359217044",
     "showTitle": false,
     "tableResultSettingsMap": {},
     "title": ""
    }
   },
   "outputs": [],
   "source": [
    "insert into poc_stg.cntrlfw.cntrl_config_proc (proc_name,proc_type,is_active,data_back_day,data_freq,notebook_path,script_path,src_system,src_file_name,src_delimeter,src_volume_name,trgt_tbl_name,created_by,created_dtm,updated_by,updated_dtm,run_period )\n",
    "select 'INB_MYSQL','inbound',1,1,'D','/Workspace/Users/themallpocaws@inteltion.com/Data-Integration-Scenarios/00_common/common_inbound',null,'MySQL','MULTIPLE','FIX','mysql','bronze.mysql_customer','harn@inteltion.com',getdate(),null,null,1;"
   ]
  },
  {
   "cell_type": "code",
   "execution_count": 0,
   "metadata": {
    "application/vnd.databricks.v1+cell": {
     "cellMetadata": {
      "byteLimit": 2048000,
      "rowLimit": 10000
     },
     "inputWidgets": {},
     "nuid": "4b0a8b24-4b2a-4c3e-91cb-f20178b2a66f",
     "showTitle": false,
     "tableResultSettingsMap": {},
     "title": ""
    }
   },
   "outputs": [],
   "source": [
    "insert into poc_stg.cntrlfw.cntrl_config_proc (proc_name,proc_type,is_active,data_back_day,data_freq,notebook_path,script_path,src_system,src_file_name,src_delimeter,src_volume_name,trgt_tbl_name,created_by,created_dtm,updated_by,updated_dtm,run_period )\n",
    "select 'INB_MONGODB','inbound',1,1,'D','/Workspace/Users/themallpocaws@inteltion.com/Data-Integration-Scenarios/00_common/common_inbound',null,'MongoDB','MULTIPLE','FIX','mongodb','bronze.mongodb_supplies_sales','harn@inteltion.com',getdate(),null,null,1;"
   ]
  },
  {
   "cell_type": "code",
   "execution_count": 0,
   "metadata": {
    "application/vnd.databricks.v1+cell": {
     "cellMetadata": {
      "byteLimit": 2048000,
      "rowLimit": 10000
     },
     "inputWidgets": {},
     "nuid": "2d775ba7-ea5b-4e0d-a78e-5c23913fed82",
     "showTitle": false,
     "tableResultSettingsMap": {},
     "title": ""
    }
   },
   "outputs": [],
   "source": [
    "drop table poc_stg.cntrlfw.cntrl_config_proc"
   ]
  },
  {
   "cell_type": "code",
   "execution_count": 0,
   "metadata": {
    "application/vnd.databricks.v1+cell": {
     "cellMetadata": {
      "byteLimit": 2048000,
      "rowLimit": 10000
     },
     "inputWidgets": {},
     "nuid": "2c86048f-2325-49e2-a18e-8102e91bae28",
     "showTitle": false,
     "tableResultSettingsMap": {},
     "title": ""
    }
   },
   "outputs": [],
   "source": [
    "drop table poc_stg.cntrlfw.cntrl_config_proc"
   ]
  },
  {
   "cell_type": "code",
   "execution_count": 0,
   "metadata": {
    "application/vnd.databricks.v1+cell": {
     "cellMetadata": {
      "byteLimit": 2048000,
      "rowLimit": 10000
     },
     "inputWidgets": {},
     "nuid": "7b54827b-d7fc-4912-833d-2299c95fb51d",
     "showTitle": false,
     "tableResultSettingsMap": {},
     "title": ""
    }
   },
   "outputs": [],
   "source": [
    " CREATE or replace TABLE poc_stg.cntrlfw.cntrl_config_proc (\n",
    "\n",
    "  proc_name STRING NOT NULL,\n",
    "  proc_type STRING NOT NULL,\n",
    "  is_active INT NOT NULL,\n",
    "  run_period INT NOT NULL,\n",
    "  data_back_day INT NOT NULL,\n",
    "  data_freq STRING NOT NULL,\n",
    "  notebook_path STRING NOT NULL,\n",
    "  script_path STRING,\n",
    "  src_system STRING,\n",
    "  src_file_name STRING,\n",
    "  src_delimeter STRING,\n",
    "  src_volume_name STRING,\n",
    "  trgt_tbl_name STRING,\n",
    "  created_by STRING NOT NULL,\n",
    "  created_dtm TIMESTAMP NOT NULL,\n",
    "  updated_by STRING,\n",
    "  updated_dtm TIMESTAMP,\n",
    "  CONSTRAINT `pk_cntrl_config_proc` PRIMARY KEY (`proc_name`)\n",
    "  )\n",
    "  "
   ]
  },
  {
   "cell_type": "code",
   "execution_count": 0,
   "metadata": {
    "application/vnd.databricks.v1+cell": {
     "cellMetadata": {
      "byteLimit": 2048000,
      "rowLimit": 10000
     },
     "inputWidgets": {},
     "nuid": "350b1490-b677-4b24-8f0a-f5926f06be75",
     "showTitle": false,
     "tableResultSettingsMap": {},
     "title": ""
    }
   },
   "outputs": [],
   "source": [
    "select * from poc_stg.cntrlfw.cntrl_config_proc"
   ]
  },
  {
   "cell_type": "code",
   "execution_count": 0,
   "metadata": {
    "application/vnd.databricks.v1+cell": {
     "cellMetadata": {},
     "inputWidgets": {},
     "nuid": "e488c147-ce07-44cd-ad42-f37931e9f02c",
     "showTitle": false,
     "tableResultSettingsMap": {},
     "title": ""
    }
   },
   "outputs": [],
   "source": [
    "truncate table "
   ]
  },
  {
   "cell_type": "code",
   "execution_count": 0,
   "metadata": {
    "application/vnd.databricks.v1+cell": {
     "cellMetadata": {
      "byteLimit": 2048000,
      "rowLimit": 10000
     },
     "inputWidgets": {},
     "nuid": "83bb5fc8-076a-45ae-a1e9-0e44b0a44e31",
     "showTitle": false,
     "tableResultSettingsMap": {},
     "title": ""
    }
   },
   "outputs": [],
   "source": [
    "insert into cntrlfw.cntrl_config_proc (proc_name,proc_type,is_active,data_back_day,data_freq,notebook_path,script_path,src_system,src_file_name,src_delimeter,src_volume_name,trgt_tbl_name,created_by,created_dtm,updated_by,updated_dtm)\n",
    "select 'movies','inbound',1,1,'D','/Workspace/Users/themallpocaws@inteltion.com/cntlfw/Common/common_inbound',null,'POC_STG','movies.csv',',','landing','movies','harn',getdate(),null,null;"
   ]
  },
  {
   "cell_type": "code",
   "execution_count": 0,
   "metadata": {
    "application/vnd.databricks.v1+cell": {
     "cellMetadata": {
      "byteLimit": 2048000,
      "rowLimit": 10000
     },
     "inputWidgets": {},
     "nuid": "59d5bf49-56e3-4566-90fd-3d462ae57a03",
     "showTitle": false,
     "tableResultSettingsMap": {},
     "title": ""
    }
   },
   "outputs": [],
   "source": [
    "select * from cntrlfw.cntrl_config_proc "
   ]
  },
  {
   "cell_type": "code",
   "execution_count": 0,
   "metadata": {
    "application/vnd.databricks.v1+cell": {
     "cellMetadata": {
      "byteLimit": 2048000,
      "rowLimit": 10000
     },
     "inputWidgets": {},
     "nuid": "5962517e-bbc6-46af-aaf8-5b247c8bdd4e",
     "showTitle": false,
     "tableResultSettingsMap": {},
     "title": ""
    }
   },
   "outputs": [],
   "source": [
    "CREATE TABLE cntrlfw.cntrl_inbound_file_log (\n",
    "  proc_name STRING NOT NULL,\n",
    "  proc_run_id STRING NOT NULL,\n",
    "  proc_status STRING NOT NULL,\n",
    "  file_name STRING NOT NULL,\n",
    "  total_record INT NOT NULL,\n",
    "  start_proc_dtm TIMESTAMP NOT NULL,\n",
    "  end_proc_dtm TIMESTAMP,\n",
    "  error_message STRING,\n",
    "  CONSTRAINT `pk_cntrl_inbound_file_log` \n",
    "  PRIMARY KEY (`proc_name`, `proc_run_id`)\n",
    ")"
   ]
  },
  {
   "cell_type": "code",
   "execution_count": 0,
   "metadata": {
    "application/vnd.databricks.v1+cell": {
     "cellMetadata": {
      "byteLimit": 2048000,
      "rowLimit": 10000
     },
     "inputWidgets": {},
     "nuid": "dfcfc14f-46bc-41ad-bdf0-52c3a5c77e61",
     "showTitle": false,
     "tableResultSettingsMap": {},
     "title": ""
    }
   },
   "outputs": [],
   "source": [
    "CREATE TABLE cntrlfw.cntrl_proc_status (\n",
    "  proc_name STRING NOT NULL,\n",
    "  proc_run_id STRING NOT NULL,\n",
    "  proc_status STRING NOT NULL,\n",
    "  run_mode STRING NOT NULL,\n",
    "  running_dt DATE,\n",
    "  start_dt DATE,\n",
    "  end_dt DATE,\n",
    "  start_proc_dtm TIMESTAMP,\n",
    "  end_proc_dtm TIMESTAMP,\n",
    "  ins_proc_dtm TIMESTAMP NOT NULL,\n",
    "  upd_proc_dtm TIMESTAMP,\n",
    "  CONSTRAINT `pk_cntrl_proc_status` PRIMARY KEY (`proc_name`)\n",
    "  )"
   ]
  },
  {
   "cell_type": "code",
   "execution_count": 0,
   "metadata": {
    "application/vnd.databricks.v1+cell": {
     "cellMetadata": {
      "byteLimit": 2048000,
      "rowLimit": 10000
     },
     "inputWidgets": {},
     "nuid": "3d6fa315-3802-460e-879c-b75fb91b13dc",
     "showTitle": false,
     "tableResultSettingsMap": {},
     "title": ""
    }
   },
   "outputs": [],
   "source": [
    "\n",
    "CREATE TABLE cntrlfw.cntrl_proc_log (\n",
    "  proc_name STRING NOT NULL,\n",
    "  proc_run_id STRING NOT NULL,\n",
    "  proc_status STRING NOT NULL,\n",
    "  run_mode STRING NOT NULL,\n",
    "  running_dt DATE,\n",
    "  start_dt DATE,\n",
    "  end_dt DATE,\n",
    "  start_proc_dtm TIMESTAMP NOT NULL,\n",
    "  end_proc_dtm TIMESTAMP,\n",
    "  error_message STRING,\n",
    "  CONSTRAINT `pk_cntrl_proc_log` PRIMARY KEY (`proc_name`, `proc_run_id`)\n",
    "  )\n"
   ]
  }
 ],
 "metadata": {
  "application/vnd.databricks.v1+notebook": {
   "computePreferences": null,
   "dashboards": [],
   "environmentMetadata": {
    "base_environment": "",
    "environment_version": "2"
   },
   "language": "sql",
   "notebookMetadata": {
    "pythonIndentUnit": 4
   },
   "notebookName": "ddl_control",
   "widgets": {}
  },
  "language_info": {
   "name": "sql"
  }
 },
 "nbformat": 4,
 "nbformat_minor": 0
}
